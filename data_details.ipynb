{
  "nbformat": 4,
  "nbformat_minor": 0,
  "metadata": {
    "colab": {
      "provenance": []
    },
    "kernelspec": {
      "name": "python3",
      "display_name": "Python 3"
    },
    "language_info": {
      "name": "python"
    }
  },
  "cells": [
    {
      "cell_type": "markdown",
      "source": [
        "# Dataset information"
      ],
      "metadata": {
        "id": "LbA0f5c3WLO2"
      }
    },
    {
      "cell_type": "markdown",
      "source": [
        " The 'spam' concept is diverse:advertisements for products/web sites,make money fast schems,chain letters....\n",
        "\n",
        "\n",
        " The SMS spam collection is set of SMS tagged messages thatb have been collection for sms spam research it contains one set of sms messages in English of 5,574 messages ,tagged according being ham(legtimate) or spam.\n",
        "\n"
      ],
      "metadata": {
        "id": "U4FPHj-8WUzM"
      }
    },
    {
      "cell_type": "markdown",
      "source": [
        "# Attributes\n",
        "\n",
        "\n",
        "\n",
        "*   spam\n",
        "*   ham\n",
        "\n",
        "\n",
        "\n"
      ],
      "metadata": {
        "id": "d0PBAayPYtFH"
      }
    },
    {
      "cell_type": "markdown",
      "source": [
        "Dataset :  https://www.kaggle.com/uciml/sms-spam-collection-dataset"
      ],
      "metadata": {
        "id": "1K6UT8y5ZBJ_"
      }
    },
    {
      "cell_type": "markdown",
      "source": [
        "# Libraries\n",
        "\n",
        "*  Pandas\n",
        "*  Numpy\n",
        "*  NLP\n",
        "*  re\n",
        "*  Sklearn\n",
        "\n",
        "\n",
        "\n",
        "\n",
        "\n"
      ],
      "metadata": {
        "id": "aa3HOtZqbvwC"
      }
    },
    {
      "cell_type": "markdown",
      "source": [
        "# ML Algorithms\n",
        "\n",
        "* Logistic Regrission\n",
        "* Naive Bayes  \n",
        "* SVM  \n",
        "* Random Forest\n",
        "* Decision tree\n",
        "\n",
        "\n",
        "\n",
        "\n",
        "\n",
        "\n"
      ],
      "metadata": {
        "id": "G1nLa5JzcoY1"
      }
    },
    {
      "cell_type": "markdown",
      "source": [
        "# Conclusion"
      ],
      "metadata": {
        "id": "5H7qC9kGft_B"
      }
    },
    {
      "cell_type": "markdown",
      "source": [
        "Best model accuracy is :98.27\n",
        "\n",
        "Best model is : SVM"
      ],
      "metadata": {
        "id": "Dd89-Efffy5U"
      }
    }
  ]
}